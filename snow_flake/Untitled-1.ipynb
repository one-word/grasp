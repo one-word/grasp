{
 "cells": [
  {
   "cell_type": "code",
   "execution_count": 41,
   "metadata": {},
   "outputs": [
    {
     "name": "stdout",
     "output_type": "stream",
     "text": [
      "43\n"
     ]
    }
   ],
   "source": [
    "from datetime import datetime\n",
    "\n",
    "class snow_flake:\n",
    "    def __init__():\n",
    "        pass\n",
    "    def first_bit():\n",
    "        return 0b0\n",
    "        pass\n",
    "    def time_bit():\n",
    "        now = bin(int(round(datetime.now().timestamp() * 1000)))\n",
    "        pass\n",
    "    \n",
    "if __name__=='__main__':\n",
    "    print(len(bin(int(round(datetime.now().timestamp() * 1000)))))"
   ]
  }
 ],
 "metadata": {
  "kernelspec": {
   "display_name": "Python 3.10.6 64-bit",
   "language": "python",
   "name": "python3"
  },
  "language_info": {
   "codemirror_mode": {
    "name": "ipython",
    "version": 3
   },
   "file_extension": ".py",
   "mimetype": "text/x-python",
   "name": "python",
   "nbconvert_exporter": "python",
   "pygments_lexer": "ipython3",
   "version": "3.10.6"
  },
  "orig_nbformat": 4,
  "vscode": {
   "interpreter": {
    "hash": "b0fa6594d8f4cbf19f97940f81e996739fb7646882a419484c72d19e05852a7e"
   }
  }
 },
 "nbformat": 4,
 "nbformat_minor": 2
}
